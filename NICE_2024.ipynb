{
  "nbformat": 4,
  "nbformat_minor": 0,
  "metadata": {
    "colab": {
      "provenance": [],
      "gpuType": "T4",
      "toc_visible": true,
      "authorship_tag": "ABX9TyMfiDzB8hfc/doimNGye+jj",
      "include_colab_link": true
    },
    "kernelspec": {
      "name": "python3",
      "display_name": "Python 3"
    },
    "language_info": {
      "name": "python"
    },
    "accelerator": "GPU"
  },
  "cells": [
    {
      "cell_type": "markdown",
      "metadata": {
        "id": "view-in-github",
        "colab_type": "text"
      },
      "source": [
        "<a href=\"https://colab.research.google.com/github/wnourse05/SNS-Toolbox-and-SNSTorch-Tutorial/blob/main/NICE_2024.ipynb\" target=\"_parent\"><img src=\"https://colab.research.google.com/assets/colab-badge.svg\" alt=\"Open In Colab\"/></a>"
      ]
    },
    {
      "cell_type": "markdown",
      "source": [
        "# NICE 2024: SNS-Toolbox and SNSTorch\n",
        "Based on tutorials and documentation available at [https://sns-toolbox.readthedocs.io/en/latest/index.html](https://sns-toolbox.readthedocs.io/en/latest/index.html)"
      ],
      "metadata": {
        "id": "b0nDKbsWePdk"
      }
    },
    {
      "cell_type": "markdown",
      "source": [
        "Install the required python packages (sns-toolbox, snstorch, mujoco). This may take a little bit..."
      ],
      "metadata": {
        "id": "PM1OtPXQecyc"
      }
    },
    {
      "cell_type": "code",
      "execution_count": null,
      "metadata": {
        "id": "FQYTAYtb_EeV"
      },
      "outputs": [],
      "source": [
        "!git clone https://github.com/wnourse05/SNS-Toolbox-and-SNSTorch-Tutorial.git\n",
        "!pip install sns-toolbox\n",
        "!pip install snstorch\n",
        "!pip install mujoco\n",
        "# Set up GPU rendering.\n",
        "from google.colab import files\n",
        "import distutils.util\n",
        "import os\n",
        "import subprocess\n",
        "\n",
        "# if subprocess.run('nvidia-smi').returncode:\n",
        "#   raise RuntimeError(\n",
        "#       'Cannot communicate with GPU. '\n",
        "#       'Make sure you are using a GPU Colab runtime. '\n",
        "#       'Go to the Runtime menu and select Choose runtime type.')\n",
        "\n",
        "# # Add an ICD config so that glvnd can pick up the Nvidia EGL driver.\n",
        "# # This is usually installed as part of an Nvidia driver package, but the Colab\n",
        "# # kernel doesn't install its driver via APT, and as a result the ICD is missing.\n",
        "# # (https://github.com/NVIDIA/libglvnd/blob/master/src/EGL/icd_enumeration.md)\n",
        "# NVIDIA_ICD_CONFIG_PATH = '/usr/share/glvnd/egl_vendor.d/10_nvidia.json'\n",
        "# if not os.path.exists(NVIDIA_ICD_CONFIG_PATH):\n",
        "#   with open(NVIDIA_ICD_CONFIG_PATH, 'w') as f:\n",
        "#     f.write(\"\"\"{\n",
        "#     \"file_format_version\" : \"1.0.0\",\n",
        "#     \"ICD\" : {\n",
        "#         \"library_path\" : \"libEGL_nvidia.so.0\"\n",
        "#     }\n",
        "# }\n",
        "# \"\"\")\n",
        "\n",
        "# Configure MuJoCo to use the EGL rendering backend (requires GPU)\n",
        "print('Setting environment variable to use GPU rendering:')\n",
        "%env MUJOCO_GL=egl\n",
        "\n",
        "# Check if installation was succesful.\n",
        "try:\n",
        "  print('Checking that the installation succeeded:')\n",
        "  import mujoco\n",
        "  mujoco.MjModel.from_xml_string('<mujoco/>')\n",
        "except Exception as e:\n",
        "  raise e from RuntimeError(\n",
        "      'Something went wrong during installation. Check the shell output above '\n",
        "      'for more information.\\n'\n",
        "      'If using a hosted Colab runtime, make sure you enable GPU acceleration '\n",
        "      'by going to the Runtime menu and selecting \"Choose runtime type\".')\n",
        "\n",
        "print('Installation successful.')\n",
        "\n",
        "# Other imports and helper functions\n",
        "import time\n",
        "import itertools\n",
        "import numpy as np\n",
        "\n",
        "# Graphics and plotting.\n",
        "print('Installing mediapy:')\n",
        "!command -v ffmpeg >/dev/null || (apt update && apt install -y ffmpeg)\n",
        "!pip install -q mediapy\n",
        "import mediapy as media\n",
        "import matplotlib.pyplot as plt\n",
        "\n",
        "# More legible printing from numpy.\n",
        "np.set_printoptions(precision=3, suppress=True, linewidth=100)\n",
        "\n",
        "import torchvision\n",
        "import torchvision.transforms as transforms\n",
        "transform = transforms.Compose(\n",
        "    [transforms.ToTensor()])\n",
        "trainset = torchvision.datasets.MNIST(root='./data', train=True, transform=transform, download=True)\n",
        "testset = torchvision.datasets.MNIST(root='./data', train=False, transform=transform, download=True)\n",
        "\n",
        "from IPython.display import clear_output\n",
        "clear_output()\n"
      ]
    },
    {
      "cell_type": "markdown",
      "source": [
        "# SNS-Toolbox\n",
        "## 1. Designing a Basic Nonspiking Network\n",
        "\n",
        "The first step is importing the necessary packages."
      ],
      "metadata": {
        "id": "Qc8J183lerPX"
      }
    },
    {
      "cell_type": "code",
      "source": [
        "import sns_toolbox\n",
        "from sns_toolbox.neurons import NonSpikingNeuron\n",
        "from sns_toolbox.networks import Network\n",
        "from sns_toolbox.connections import NonSpikingSynapse\n",
        "from sns_toolbox.renderer import render"
      ],
      "metadata": {
        "id": "Xb3VZcT4AQWy"
      },
      "execution_count": null,
      "outputs": []
    },
    {
      "cell_type": "markdown",
      "source": [
        "In SNS-Toolbox, we have to define neuron and synapse types before we can use them. Let's start with a basic non-spiking leaky integrator."
      ],
      "metadata": {
        "id": "6LT4SyK0Anyz"
      }
    },
    {
      "cell_type": "code",
      "source": [
        "neuron_type = NonSpikingNeuron(name='Neuron',  # Name displayed in a render of the network\n",
        "                               color='white',  # Fill color for the rendered neuron\n",
        "                               membrane_capacitance=5.0,  # Membrane capacitance in nF\n",
        "                               membrane_conductance=1.0,  # Membrane conductance in uS\n",
        "                               bias=0.0)                # Tonic applied current in nA"
      ],
      "metadata": {
        "id": "gmgN58WAApsn"
      },
      "execution_count": null,
      "outputs": []
    },
    {
      "cell_type": "markdown",
      "source": [
        "Next, let's define three different chemical synapses: one excitatory, one inhibitory, and one modulatory/shunting."
      ],
      "metadata": {
        "id": "8ASL-5epfmDH"
      }
    },
    {
      "cell_type": "code",
      "source": [
        "\"\"\"\n",
        "Define some synapse types\n",
        "\"\"\"\n",
        "synapse_excitatory = NonSpikingSynapse(max_conductance=1.0, reversal_potential=50.0) # make an excitatory synapse\n",
        "synapse_inhibitory = NonSpikingSynapse(max_conductance=1.0, reversal_potential=-40.0) # make an inhibitory synapse\n",
        "# Define a modulatory synapse (relative reversal potential is 0)\n",
        "synapse_modulatory = NonSpikingSynapse(max_conductance=1.0, reversal_potential=0.0)"
      ],
      "metadata": {
        "id": "RBl2DbM_c9MD"
      },
      "execution_count": null,
      "outputs": []
    },
    {
      "cell_type": "markdown",
      "source": [
        "We have defined neuron and synapse types, but we have nowhere to put them. Let's initialize a Network, which acts as the container that stores our network parameters and connectivity."
      ],
      "metadata": {
        "id": "QG2pXQWQfwar"
      }
    },
    {
      "cell_type": "code",
      "source": [
        "net0 = Network()"
      ],
      "metadata": {
        "id": "J6wrPg_zd8Jd"
      },
      "execution_count": null,
      "outputs": []
    },
    {
      "cell_type": "markdown",
      "source": [
        "Now, using our preexisting types, we can start adding neurons and synapses into the network. Let's make a basic excitatory pathway, with a source neuron exciting a postsynaptic neuron."
      ],
      "metadata": {
        "id": "wsmQ2xC5gX1J"
      }
    },
    {
      "cell_type": "code",
      "source": [
        "# Make a neuron to receive external input\n",
        "net0.add_neuron(neuron_type, name='SourceNrn', color='black')\n",
        "\n",
        "# Make a neuron which is excited by the source neuron\n",
        "net0.add_neuron(neuron_type, name='Dest1', color='blue')\n",
        "net0.add_connection(synapse_excitatory, 'SourceNrn', 'Dest1')"
      ],
      "metadata": {
        "id": "DQmOXNpMeEG8"
      },
      "execution_count": null,
      "outputs": []
    },
    {
      "cell_type": "markdown",
      "source": [
        "In order to visualize neural designs, SNS-Toolbox comes with a builtin interface with graphviz. Let's use the renderer to render a graph of this (relatively simple) network."
      ],
      "metadata": {
        "id": "fXv8k8NJgqO3"
      }
    },
    {
      "cell_type": "code",
      "source": [
        "render(net0) # Display the network graph in this notebook"
      ],
      "metadata": {
        "id": "6FXyVFudeInH"
      },
      "execution_count": null,
      "outputs": []
    },
    {
      "cell_type": "markdown",
      "source": [
        "Let's add two more neurons. One is excited by the source and excites the other, the other inhibits the first."
      ],
      "metadata": {
        "id": "VCWglgBshHXZ"
      }
    },
    {
      "cell_type": "code",
      "source": [
        "net0.add_neuron(neuron_type, name='Dest2', color='orange')\n",
        "net0.add_neuron(neuron_type, name='Dest2In', color='green')\n",
        "net0.add_connection(synapse_excitatory, 'SourceNrn', 'Dest2')\n",
        "net0.add_connection(synapse_excitatory, 'Dest2', 'Dest2In')\n",
        "net0.add_connection(synapse_inhibitory, 'Dest2In', 'Dest2')\n",
        "\n",
        "render(net0)"
      ],
      "metadata": {
        "id": "1jtfg5fDg7vY"
      },
      "execution_count": null,
      "outputs": []
    },
    {
      "cell_type": "markdown",
      "source": [
        "We make one more neuron, which will be excited by the source neuron and modulated by Dest1."
      ],
      "metadata": {
        "id": "cCmg3OlChWJO"
      }
    },
    {
      "cell_type": "code",
      "source": [
        "net0.add_neuron(neuron_type, name='Dest3', color='red')\n",
        "net0.add_connection(synapse_excitatory, 'SourceNrn', 'Dest3')\n",
        "net0.add_connection(synapse_modulatory, 'Dest1', 'Dest3')\n",
        "\n",
        "render(net0)"
      ],
      "metadata": {
        "id": "hVJeFe4zhPMp"
      },
      "execution_count": null,
      "outputs": []
    },
    {
      "cell_type": "markdown",
      "source": [
        "Now we need to add an input source, so that during simulation we can apply an external stimulus to the source neuron."
      ],
      "metadata": {
        "id": "qcDf3_hYhmFo"
      }
    },
    {
      "cell_type": "code",
      "source": [
        "net0.add_input(dest='SourceNrn', name='Input', color='white')\n",
        "\n",
        "render(net0)"
      ],
      "metadata": {
        "id": "TGVUbzH2hbcs"
      },
      "execution_count": null,
      "outputs": []
    },
    {
      "cell_type": "markdown",
      "source": [
        "Finally we add output monitors, so that we can view the state of each neuron in the network."
      ],
      "metadata": {
        "id": "epUeaSIXhy21"
      }
    },
    {
      "cell_type": "code",
      "source": [
        "net0.add_output('SourceNrn', name='OutSourceNrn', color='grey')\n",
        "net0.add_output('Dest1', name='OutDest1', color='grey')\n",
        "net0.add_output('Dest2', name='OutDest2', color='grey')\n",
        "net0.add_output('Dest2In', name='OutDest2In', color='grey')\n",
        "net0.add_output('Dest3', name='OutDest3', color='grey')\n",
        "\n",
        "render(net0)"
      ],
      "metadata": {
        "id": "WbRP3Wi8hqE_"
      },
      "execution_count": null,
      "outputs": []
    },
    {
      "cell_type": "markdown",
      "source": [
        "## 2. Compiling and Simulating a Basic Network\n",
        "Now that we have built a description of our network, we need to compile it to the backend of our choice and simulate it. In our case we will be compiling to a `numpy` representation.\n",
        "\n",
        "First, we start by setting some general parameters for the simulation."
      ],
      "metadata": {
        "id": "THn-h0JNiGpI"
      }
    },
    {
      "cell_type": "code",
      "source": [
        "# Set simulation parameters\n",
        "dt = 0.01 # Simulation timestep in ms\n",
        "t_max = 50 # Max simulation time in ms\n",
        "\n",
        "# Initialize a vector of timesteps\n",
        "t = np.arange(0, t_max, dt)\n",
        "\n",
        "# Initialize vectors which store the input to our network, and for data to be written to during simulation from outputs\n",
        "inputs = np.zeros([len(t),1])+20.0  # Input vector must be 2d, even if second dimension is 1\n",
        "data = np.zeros([len(t),5])"
      ],
      "metadata": {
        "id": "CnDs0xa2h20b"
      },
      "execution_count": null,
      "outputs": []
    },
    {
      "cell_type": "markdown",
      "source": [
        "Next we compile the network. We pass in the network blueprint, our timestep, and an optional `debug` flag (if you want to see the individual steps in the compilation process, set `debug` to `True`)."
      ],
      "metadata": {
        "id": "j-ZFRdLvid1Q"
      }
    },
    {
      "cell_type": "code",
      "source": [
        "model = net0.compile(backend='numpy', dt=dt, debug=False)\n",
        "# Note that if you want to compile to the GPU, you would need to use the \"torch\" backend\n",
        "# model = net0.compile(backend='torch', dt=dt, device='cuda')"
      ],
      "metadata": {
        "id": "kAEpVrmniW9e"
      },
      "execution_count": null,
      "outputs": []
    },
    {
      "cell_type": "markdown",
      "source": [
        "Now we can simulate the network. We create a loop, and at every timestep we apply the current input to a forward pass of the network. At each step we also store the results in `data`."
      ],
      "metadata": {
        "id": "DZhiTb0Hi0Eo"
      }
    },
    {
      "cell_type": "code",
      "source": [
        "for i in range(len(t)):\n",
        "    data[i,:] = model(inputs[i,:])"
      ],
      "metadata": {
        "id": "sXW-xIRyiphX"
      },
      "execution_count": null,
      "outputs": []
    },
    {
      "cell_type": "markdown",
      "source": [
        "Let's plot the results of our simulation."
      ],
      "metadata": {
        "id": "XHJzON0GjJcl"
      }
    },
    {
      "cell_type": "code",
      "source": [
        "data = data.transpose() # Rearrange the data axes for easier plotting\n",
        "\n",
        "\"\"\"Plot the data\"\"\"\n",
        "# First section\n",
        "plt.figure()\n",
        "plt.title('First Section')\n",
        "plt.plot(t,data[:][0],label='SourceNrn',color='black')  # When plotting, all data needs to be transposed first\n",
        "plt.plot(t,data[:][1],label='Dest1',color='blue')\n",
        "plt.legend()\n",
        "\n",
        "# Second section\n",
        "plt.figure()\n",
        "plt.title('Second Section')\n",
        "plt.plot(t,data[:][0],label='SourceNrn',color='black')\n",
        "plt.plot(t,data[:][2],label='Dest2',color='orange')\n",
        "plt.plot(t,data[:][3],label='Dest2In',color='green')\n",
        "plt.legend()\n",
        "\n",
        "# Third section\n",
        "plt.figure()\n",
        "plt.title('Third Section')\n",
        "plt.plot(t,data[:][0],label='SourceNrn',color='black')\n",
        "plt.plot(t,data[:][1],label='Dest1',color='blue')\n",
        "plt.plot(t,data[:][4],label='Dest3',color='red')\n",
        "plt.legend()\n",
        "\n",
        "plt.show()  # Show the plots"
      ],
      "metadata": {
        "id": "q2TSG-DxjDG5"
      },
      "execution_count": null,
      "outputs": []
    },
    {
      "cell_type": "markdown",
      "source": [
        "## 3. Spiking Networks\n",
        "Up to this point we’ve created networks of neurons and synapses which only operate in the non-spiking regime. Now, we will create a network of spiking neurons and populations, and record activity with spike monitors."
      ],
      "metadata": {
        "id": "J07juJk-jZ8x"
      }
    },
    {
      "cell_type": "code",
      "source": [
        "from sns_toolbox.connections import SpikingSynapse\n",
        "from sns_toolbox.neurons import SpikingNeuron\n",
        "from sns_toolbox.plot_utilities import spike_raster_plot # This module is necessary for plotting spike rasters"
      ],
      "metadata": {
        "id": "o9x9Cq7GjNj5"
      },
      "execution_count": null,
      "outputs": []
    },
    {
      "cell_type": "markdown",
      "source": [
        "Let's make a spiking network where each neuron has a different threshold proportionality constant `m`."
      ],
      "metadata": {
        "id": "lHS9_utTkAEd"
      }
    },
    {
      "cell_type": "code",
      "source": [
        "# Create spiking neurons with different values of 'm'\n",
        "threshold_initial_value = 1.0\n",
        "spike_m_equal_0 = SpikingNeuron(name='m = 0', color='aqua',\n",
        "                                threshold_time_constant=5.0,  # Default value of tau_m (ms)\n",
        "                                threshold_proportionality_constant=0.0,  # Default value of m\n",
        "                                threshold_initial_value=threshold_initial_value)  # Default value of theta_0 (mV)\n",
        "spike_m_less_0 = SpikingNeuron(name='m < 0', color='darkorange',\n",
        "                               threshold_proportionality_constant=-1.0)\n",
        "spike_m_greater_0 = SpikingNeuron(name='m > 0', color='forestgreen',\n",
        "                                  threshold_proportionality_constant=1.0)\n",
        "\n",
        "# Create a spiking synapse\n",
        "synapse_spike = SpikingSynapse(time_constant=1.0)    # Default value (ms)\n",
        "\n",
        "# Create a network with different m values\n",
        "net1 = Network()\n",
        "net1.add_neuron(spike_m_equal_0, name='m=0')\n",
        "net1.add_neuron(spike_m_less_0, name='m<0')\n",
        "net1.add_neuron(spike_m_greater_0, name='m>0')\n",
        "\n",
        "# Add an input current source\n",
        "net1.add_input(dest='m=0', name='I0', color='black')\n",
        "net1.add_input(dest='m<0', name='I1', color='black')\n",
        "net1.add_input(dest='m>0', name='I2', color='black')\n",
        "\n",
        "# Add output monitors (some for the voltage, some for the spikes)\n",
        "net1.add_output('m=0', name='O0V', color='grey')\n",
        "net1.add_output('m=0', name='O1S', color='grey', spiking=True)  # Records spikes instead of voltage\n",
        "net1.add_output('m<0', name='O2V', color='grey')\n",
        "net1.add_output('m<0', name='O3S', color='grey', spiking=True)  # Records spikes instead of voltage\n",
        "net1.add_output('m>0', name='O4V', color='grey')\n",
        "net1.add_output('m>0', name='O5S', color='grey', spiking=True)  # Records spikes instead of voltage\n",
        "\n",
        "render(net1)"
      ],
      "metadata": {
        "id": "LkPvLjuQjwBK"
      },
      "execution_count": null,
      "outputs": []
    },
    {
      "cell_type": "markdown",
      "source": [
        "Again, we can compile and simulate the network"
      ],
      "metadata": {
        "id": "pfBmt8fxkgBU"
      }
    },
    {
      "cell_type": "code",
      "source": [
        "dt = 0.01\n",
        "t_max = 10\n",
        "\n",
        "t = np.arange(0, t_max, dt)\n",
        "inputs = np.zeros([len(t), net1.get_num_inputs()]) + 20      # getNumInputs() gets the number of input nodes in a network\n",
        "data = np.zeros([len(t), net1.get_num_outputs_actual()])    # getNumOutputsActual gets the number of accessible output\n",
        "                                                            # nodes in a network (since this net has populations, each\n",
        "                                                            # population has n output nodes)\n",
        "# Compile to numpy\n",
        "model1 = net1.compile(backend='numpy', dt=dt, debug=False)\n",
        "\n",
        "# Run for all steps\n",
        "for i in range(len(t)):\n",
        "    data[i,:] = model1(inputs[i,:])\n",
        "data = data.transpose()"
      ],
      "metadata": {
        "id": "arJoUJsPkT1g"
      },
      "execution_count": null,
      "outputs": []
    },
    {
      "cell_type": "code",
      "source": [
        "plt.figure()\n",
        "plt.subplot(3,2,1)\n",
        "plt.title('m = 0: Voltage')\n",
        "plt.plot(t,data[:][0],color='blue')\n",
        "# plt.xlabel('t (ms)')\n",
        "plt.ylabel('u (mV)')\n",
        "plt.subplot(3,2,2)\n",
        "plt.title('m = 0: Spikes')\n",
        "spike_raster_plot(t, data[:][1],colors=['blue'])\n",
        "# plt.xlabel('t (ms)')\n",
        "plt.subplot(3,2,3)\n",
        "plt.title('m < 0: Voltage')\n",
        "plt.plot(t,data[:][2],color='orange')\n",
        "# plt.xlabel('t (ms)')\n",
        "plt.ylabel('u (mV)')\n",
        "plt.subplot(3,2,4)\n",
        "plt.title('m = 0: Spikes')\n",
        "spike_raster_plot(t, data[:][3],colors=['orange'])\n",
        "# plt.xlabel('t (ms)')\n",
        "plt.subplot(3,2,5)\n",
        "plt.title('m > 0: Voltage')\n",
        "plt.plot(t,data[:][4],color='green')\n",
        "plt.xlabel('t (ms)')\n",
        "plt.ylabel('u (mV)')\n",
        "plt.subplot(3,2,6)\n",
        "plt.title('m > 0: Spikes')\n",
        "spike_raster_plot(t, data[:][5],colors=['green'])\n",
        "plt.xlabel('t (ms)')\n",
        "\n",
        "plt.show()"
      ],
      "metadata": {
        "id": "Q7kY0S2okqFQ"
      },
      "execution_count": null,
      "outputs": []
    },
    {
      "cell_type": "markdown",
      "source": [
        "So far we have been adding neurons to our networks individually. However, we can also add neurons in larger populations as well."
      ],
      "metadata": {
        "id": "7WzfrmM7k67I"
      }
    },
    {
      "cell_type": "code",
      "source": [
        "pop_size = 5\n",
        "net2 = Network()\n",
        "initial_values = np.linspace(0.0,threshold_initial_value,num=pop_size)\n",
        "net2.add_population(spike_m_equal_0, shape=[pop_size], color='red', name='Source',initial_value=initial_values)\n",
        "net2.add_population(spike_m_equal_0, shape=[pop_size], color='purple', name='Destination',initial_value=initial_values)\n",
        "net2.add_input(dest='Source', name='I3', color='black')\n",
        "net2.add_connection(synapse_spike, 'Source', 'Destination')\n",
        "net2.add_output('Source', name='O6S', color='grey', spiking=True)\n",
        "net2.add_output('Source', name='O7V', color='grey', spiking=False)\n",
        "net2.add_output('Destination', name='O8S', color='grey', spiking=True)\n",
        "net2.add_output('Destination', name='O9V', color='grey', spiking=False)\n",
        "\n",
        "render(net2)"
      ],
      "metadata": {
        "id": "hVHlD_AUkvjj"
      },
      "execution_count": null,
      "outputs": []
    },
    {
      "cell_type": "code",
      "source": [
        "dt = 0.01\n",
        "t_max = 10\n",
        "\n",
        "t = np.arange(0, t_max, dt)\n",
        "inputs = np.zeros([len(t), net2.get_num_inputs()]) + 20      # getNumInputs() gets the number of input nodes in a network\n",
        "data = np.zeros([len(t), net2.get_num_outputs_actual()])    # getNumOutputsActual gets the number of accessible output\n",
        "                                                            # nodes in a network (since this net has populations, each\n",
        "                                                            # population has n output nodes)\n",
        "# Compile to numpy\n",
        "model2 = net2.compile(backend='numpy', dt=dt, debug=False)\n",
        "\n",
        "# Run for all steps\n",
        "for i in range(len(t)):\n",
        "    data[i,:] = model2(inputs[i,:])\n",
        "data = data.transpose()\n",
        "\n",
        "plt.figure()\n",
        "plt.subplot(2,2,1)\n",
        "spike_raster_plot(t,data[:][:pop_size],colors=['red'])\n",
        "plt.ylabel('Neuron')\n",
        "plt.title('Source Spikes')\n",
        "plt.subplot(2, 2, 2)\n",
        "spike_raster_plot(t,data[:][2*pop_size:3*pop_size],colors=['purple'])\n",
        "plt.ylabel('Neuron')\n",
        "plt.title('Destination Spikes')\n",
        "plt.subplot(2,2,3)\n",
        "for i in range(pop_size):\n",
        "    plt.plot(t,data[:][pop_size+i])\n",
        "plt.xlabel('t (ms)')\n",
        "plt.ylabel('Voltage')\n",
        "plt.title('Source Voltage')\n",
        "plt.subplot(2, 2, 4)\n",
        "for i in range(pop_size):\n",
        "    plt.plot(t,data[:][3*pop_size+i])\n",
        "plt.xlabel('t (ms)')\n",
        "plt.ylabel('Voltage')\n",
        "plt.title('Destination Voltage')\n",
        "\n",
        "plt.show()"
      ],
      "metadata": {
        "id": "ybhpSxPPlpS1"
      },
      "execution_count": null,
      "outputs": []
    },
    {
      "cell_type": "markdown",
      "source": [
        "## 4. Combining Networks\n",
        "As we make larger networks, it can be practical to assemble networks using smaller subnetworks. To demonstrate, let's merge the previous 2 networks into one compiled model."
      ],
      "metadata": {
        "id": "S4uRG9lfnXtV"
      }
    },
    {
      "cell_type": "code",
      "source": [
        "net3 = Network()\n",
        "net3.add_network(net1)\n",
        "net3.add_network(net2)\n",
        "\n",
        "render(net3)"
      ],
      "metadata": {
        "id": "1tG0Y7NIl6Jf"
      },
      "execution_count": null,
      "outputs": []
    },
    {
      "cell_type": "code",
      "source": [
        "dt = 0.01\n",
        "t_max = 10\n",
        "\n",
        "t = np.arange(0, t_max, dt)\n",
        "inputs = np.zeros([len(t), net3.get_num_inputs()]) + 20      # getNumInputs() gets the number of input nodes in a network\n",
        "data = np.zeros([len(t), net3.get_num_outputs_actual()])    # getNumOutputsActual gets the number of accessible output\n",
        "                                                            # nodes in a network (since this net has populations, each\n",
        "                                                            # population has n output nodes)\n",
        "# Compile to numpy\n",
        "model3 = net3.compile(backend='numpy', dt=dt, debug=False)\n",
        "\n",
        "# Run for all steps\n",
        "for i in range(len(t)):\n",
        "    data[i,:] = model3(inputs[i,:])\n",
        "data = data.transpose()\n",
        "plt.figure()\n",
        "plt.subplot(3,2,1)\n",
        "plt.title('m = 0: Voltage')\n",
        "plt.plot(t,data[:][0],color='blue')\n",
        "# plt.xlabel('t (ms)')\n",
        "plt.ylabel('u (mV)')\n",
        "plt.subplot(3,2,2)\n",
        "plt.title('m = 0: Spikes')\n",
        "spike_raster_plot(t, data[:][1],colors=['blue'])\n",
        "# plt.xlabel('t (ms)')\n",
        "plt.subplot(3,2,3)\n",
        "plt.title('m < 0: Voltage')\n",
        "plt.plot(t,data[:][2],color='orange')\n",
        "# plt.xlabel('t (ms)')\n",
        "plt.ylabel('u (mV)')\n",
        "plt.subplot(3,2,4)\n",
        "plt.title('m = 0: Spikes')\n",
        "spike_raster_plot(t, data[:][3],colors=['orange'])\n",
        "# plt.xlabel('t (ms)')\n",
        "plt.subplot(3,2,5)\n",
        "plt.title('m > 0: Voltage')\n",
        "plt.plot(t,data[:][4],color='green')\n",
        "plt.xlabel('t (ms)')\n",
        "plt.ylabel('u (mV)')\n",
        "plt.subplot(3,2,6)\n",
        "plt.title('m > 0: Spikes')\n",
        "spike_raster_plot(t, data[:][5],colors=['green'])\n",
        "plt.xlabel('t (ms)')\n",
        "plt.figure()\n",
        "plt.subplot(2,2,1)\n",
        "spike_raster_plot(t,data[:][6:6+pop_size],colors=['red'])\n",
        "plt.ylabel('Neuron')\n",
        "plt.title('Source Spikes')\n",
        "plt.subplot(2, 2, 2)\n",
        "spike_raster_plot(t,data[:][6+2*pop_size:6+3*pop_size],colors=['purple'])\n",
        "plt.ylabel('Neuron')\n",
        "plt.title('Destination Spikes')\n",
        "plt.subplot(2,2,3)\n",
        "for i in range(pop_size):\n",
        "    plt.plot(t,data[:][6+pop_size+i])\n",
        "plt.xlabel('t (ms)')\n",
        "plt.ylabel('Voltage')\n",
        "plt.title('Source Voltage')\n",
        "plt.subplot(2, 2, 4)\n",
        "for i in range(pop_size):\n",
        "    plt.plot(t,data[:][6+3*pop_size+i])\n",
        "plt.xlabel('t (ms)')\n",
        "plt.ylabel('Voltage')\n",
        "plt.title('Destination Voltage')\n",
        "\n",
        "plt.show()"
      ],
      "metadata": {
        "id": "YWxGN99OoDz1"
      },
      "execution_count": null,
      "outputs": []
    },
    {
      "cell_type": "markdown",
      "source": [
        "## 5. Advanced Spiking and Propagation Delay\n",
        "Based on feedback from our users, in version 1.5.0 of SNS-Toolbox we expanded our model of Spiking Neurons and Synapses. The new spiking models are fully backwards compatible with the original spiking model in SNS-Toolbox, so neurons and synapses which are initialized using only the old parameters will behave as expected."
      ],
      "metadata": {
        "id": "kaPP_MFgqYmc"
      }
    },
    {
      "cell_type": "code",
      "source": [
        "type_neuron_spiking_old = SpikingNeuron(threshold_time_constant=5.0,\n",
        "                                        threshold_initial_value=1.0,\n",
        "                                        threshold_proportionality_constant=1.0,\n",
        "                                        bias=20.0)\n",
        "type_neuron_spiking_new = SpikingNeuron(threshold_time_constant=5.0,\n",
        "                                        threshold_initial_value=1.0,\n",
        "                                        threshold_proportionality_constant=1.0,\n",
        "                                        bias=20.0,\n",
        "                                        threshold_leak_rate=2.0,    # New in v1.5.0\n",
        "                                        threshold_floor=0.0,        # New in v1.5.0\n",
        "                                        reset_potential=-0.1,       # New in v1.5.0\n",
        "                                        threshold_increment=0.1)    # New in v1.5.0\n",
        "net = Network()\n",
        "net.add_neuron(type_neuron_spiking_old,'Old')\n",
        "net.add_neuron(type_neuron_spiking_new, 'New')\n",
        "\n",
        "net.add_output('Old')\n",
        "net.add_output('New')\n",
        "net.add_output('Old',spiking=True)\n",
        "net.add_output('New', spiking=True)\n",
        "\n",
        "dt = 0.01\n",
        "t_max = 10\n",
        "\n",
        "t = np.arange(0, t_max, dt)\n",
        "data = np.zeros([len(t), net.get_num_outputs_actual()])\n",
        "thresholds = np.zeros([len(t), 2])\n",
        "# Compile to numpy\n",
        "model = net.compile(backend='numpy', dt=dt, debug=False)\n",
        "\n",
        "# Run for all steps\n",
        "for i in range(len(t)):\n",
        "    data[i,:] = model()\n",
        "    thresholds[i,:] = model.theta\n",
        "data = data.transpose()\n",
        "thresholds = thresholds.transpose()\n",
        "\n",
        "\"\"\"Plotting the results\"\"\"\n",
        "plt.figure()\n",
        "plt.plot(t,data[:][0], color='blue', label='Old')\n",
        "plt.plot(t,data[:][1], color='orange', label='New')\n",
        "plt.title('Neural Voltage')\n",
        "plt.legend()\n",
        "plt.xlabel('t (ms)')\n",
        "plt.ylabel('u (mV)')\n",
        "\n",
        "plt.figure()\n",
        "plt.plot(t,thresholds[:][0], color='blue', label='Old')\n",
        "plt.plot(t,thresholds[:][1], color='orange', label='New')\n",
        "plt.title('Threshold Voltage')\n",
        "plt.legend()\n",
        "plt.xlabel('t (ms)')\n",
        "plt.ylabel('Threshold (mV)')\n",
        "\n",
        "plt.figure()\n",
        "plt.title('Spikes')\n",
        "spike_raster_plot(t, data[:][2:4],colors=['blue','orange'])\n",
        "plt.xlabel('t (ms)')\n",
        "plt.show()"
      ],
      "metadata": {
        "id": "jnXx-fCooYS8"
      },
      "execution_count": null,
      "outputs": []
    },
    {
      "cell_type": "markdown",
      "source": [
        "For spiking synapses, we added a conductance increment factor. Previously all spiking synapses reset to a maximum value whenever the presynaptic neuron fired, now they can increment by a specified interval while being constrained by an upper bound."
      ],
      "metadata": {
        "id": "vvAo9MN9rYd2"
      }
    },
    {
      "cell_type": "code",
      "source": [
        "net2 = Network()\n",
        "net2.add_neuron(type_neuron_spiking_new,'Pre')\n",
        "net2.add_neuron(type_neuron_spiking_new, 'PostOld')\n",
        "net2.add_neuron(type_neuron_spiking_new, 'PostNew')\n",
        "\n",
        "synapse_old = SpikingSynapse(max_conductance=1.0,\n",
        "                             reversal_potential=194.0,\n",
        "                             time_constant=1.0,\n",
        "                             transmission_delay=0)\n",
        "synapse_new = SpikingSynapse(max_conductance=1.0,\n",
        "                             reversal_potential=194.0,\n",
        "                             time_constant=1.0,\n",
        "                             transmission_delay=0,\n",
        "                             conductance_increment=0.2) # New in v1.5.0\n",
        "net2.add_connection(synapse_old,'Pre', 'PostOld')\n",
        "net2.add_connection(synapse_new, 'Pre', 'PostNew')\n",
        "\n",
        "g_syn = np.zeros([len(t), 2])\n",
        "# Compile to numpy\n",
        "model2 = net2.compile(backend='numpy', dt=dt, debug=False)\n",
        "\n",
        "for i in range(len(t)):\n",
        "    model2()\n",
        "    g_syn[i,0] = model2.g_spike[1,0]\n",
        "    g_syn[i,1] = model2.g_spike[2,0]\n",
        "g_syn = g_syn.transpose()\n",
        "\n",
        "plt.figure()\n",
        "plt.plot(t,g_syn[:][0], color='blue', label='Old')\n",
        "plt.plot(t,g_syn[:][1], color='orange', label='New')\n",
        "plt.title('Synaptic Conductance')\n",
        "plt.legend()\n",
        "plt.xlabel('t (ms)')\n",
        "plt.ylabel('Gsyn (uS)')\n",
        "\n",
        "plt.show()"
      ],
      "metadata": {
        "id": "oW-sXk9SrRKh"
      },
      "execution_count": null,
      "outputs": []
    },
    {
      "cell_type": "markdown",
      "source": [
        "Spiking synapses can also use propagation delay, in order to enable some types of temporal processing networks."
      ],
      "metadata": {
        "id": "p7XWamUUrxTg"
      }
    },
    {
      "cell_type": "code",
      "source": [
        "\"\"\"Define our types\"\"\"\n",
        "neuron_type = SpikingNeuron()\n",
        "synapse_type_d0 = SpikingSynapse(transmission_delay=0)   # Transmission delay of 0 dt\n",
        "synapse_type_d5 = SpikingSynapse(transmission_delay=5)   # Transmission delay of 5 dt\n",
        "synapse_type_d10 = SpikingSynapse(transmission_delay=10)   # Transmission delay of 10 dt\n",
        "synapse_type_d20 = SpikingSynapse(transmission_delay=20)   # Transmission delay of 20 dt"
      ],
      "metadata": {
        "id": "QvH7UGUNri6v"
      },
      "execution_count": null,
      "outputs": []
    },
    {
      "cell_type": "code",
      "source": [
        "\"\"\"Create our network\"\"\"\n",
        "net = Network(name='Tutorial 5 Network')\n",
        "\n",
        "net.add_neuron(neuron_type, name='Source', color='blue')\n",
        "net.add_neuron(neuron_type, name='D0', color='orange')\n",
        "net.add_neuron(neuron_type, name='D5', color='green')\n",
        "net.add_neuron(neuron_type, name='D10', color='red')\n",
        "net.add_neuron(neuron_type, name='D20', color='purple')\n",
        "\n",
        "net.add_connection(synapse_type_d0, 'Source', 'D0')\n",
        "net.add_connection(synapse_type_d5, 'Source', 'D5')\n",
        "net.add_connection(synapse_type_d10, 'Source', 'D10')\n",
        "net.add_connection(synapse_type_d20, 'Source', 'D20')\n",
        "\n",
        "net.add_output('Source', name='OSS', spiking=True)\n",
        "net.add_output('D0', name='O0S', spiking=True)\n",
        "net.add_output('D5', name='O5S', spiking=True)\n",
        "net.add_output('D10', name='O10S', spiking=True)\n",
        "net.add_output('D20', name='O20S', spiking=True)\n",
        "\n",
        "net.add_input('Source')\n",
        "\n",
        "render(net)\n",
        "\n",
        "\"\"\"Simulate the network\"\"\"\n",
        "dt = 0.01\n",
        "t_max = 10\n",
        "\n",
        "t = np.arange(0, t_max, dt)\n",
        "inputs = np.zeros([len(t), net.get_num_inputs()])          # getNumInputs() gets the number of input nodes in a network\n",
        "inputs[0:100] = 20.0\n",
        "data = np.zeros([len(t), net.get_num_outputs_actual()])    # getNumOutputsActual gets the number of accessible output\n",
        "                                                            # nodes in a network (since this net has populations, each\n",
        "                                                            # population has n output nodes)\n",
        "# Compile to numpy\n",
        "model = net.compile(backend='numpy', dt=dt, debug=False)\n",
        "\n",
        "# Run for all steps\n",
        "for i in range(len(t)):\n",
        "    data[i,:] = model(inputs[i,:])\n",
        "data = data.transpose()\n",
        "\n",
        "\"\"\"Plotting the results\"\"\"\n",
        "plt.figure()\n",
        "plt.subplot(2,1,1)\n",
        "plt.plot(t,inputs,color='black')\n",
        "plt.title('Input Stimulus')\n",
        "plt.ylabel('Current (nA)')\n",
        "plt.subplot(2,1,2)\n",
        "spike_raster_plot(t,data[:][:],colors=['blue','orange','green','red','purple'])\n",
        "plt.title('Network Spike Times')\n",
        "plt.ylabel('Neuron')\n",
        "plt.xlabel('t (ms)')\n",
        "\n",
        "\n",
        "plt.show()"
      ],
      "metadata": {
        "id": "Da7qviw9r-xG"
      },
      "execution_count": null,
      "outputs": []
    },
    {
      "cell_type": "markdown",
      "source": [
        "## 6. Connectivity Patterns\n",
        "Let's start looking at larger networks. As networks get larger and larger, it may be ideal to describe connections as connectivity patterns/kernels instead of individual synapses. In this example, we implement a basic convolutional-type pattern."
      ],
      "metadata": {
        "id": "hCeqzTUVsLWd"
      }
    },
    {
      "cell_type": "code",
      "source": [
        "import cv2 as cv\n",
        "img = cv.imread('/content/SNS-Toolbox-and-SNSTorch-Tutorial/cameraman.jpg')   # load image file\n",
        "\n",
        "shape_original = img.shape  # dimensions of the original image\n",
        "dim_long = max(shape_original[0],shape_original[1]) # longest dimension of the original image\n",
        "dim_desired_max = 32    # constrain the longest dimension for easier processing\n",
        "ratio = dim_desired_max/dim_long    # scaling ratio of original image\n",
        "img_resized = cv.resize(img,None,fx=ratio,fy=ratio) # scale original image using ratio\n",
        "\n",
        "img_color = cv.cvtColor(img, cv.COLOR_BGR2RGB)  # transform the image from BGR to RGB\n",
        "img_color_resized = cv.cvtColor(img_resized, cv.COLOR_BGR2RGB)  # resize the RGB image\n",
        "img_gray = cv.cvtColor(img_resized, cv.COLOR_BGR2GRAY)  # convert the resized image to grayscale [0-255]\n",
        "\n",
        "shape = img_gray.shape  # dimensions of the resized grayscale image\n",
        "\n",
        "img_flat = img_gray.flatten()   # flatten the image into 1 vector for neural processing\n",
        "flat_size = len(img_flat)   # length of the flattened image vector\n",
        "\n",
        "plt.figure()\n",
        "plt.imshow(img_gray,cmap='gray')\n",
        "plt.axis('off')"
      ],
      "metadata": {
        "id": "HYXTe7kdsES8"
      },
      "execution_count": null,
      "outputs": []
    },
    {
      "cell_type": "markdown",
      "source": [
        "We can make a simple two-layer network, which is loosely inspired by some of the computations happening in the insect visual nervous system."
      ],
      "metadata": {
        "id": "nKdJS0qEuvhJ"
      }
    },
    {
      "cell_type": "code",
      "source": [
        "from sns_toolbox.connections import NonSpikingPatternConnection\n",
        "# General network\n",
        "R = 20.0    # range of network activity (mV)\n",
        "neuron_type = NonSpikingNeuron()    # generic neuron type\n",
        "net = Network(name='Visual Network')    # create an empty network\n",
        "\n",
        "# Retina\n",
        "net.add_population(neuron_type,shape,name='Retina') # add a 2d population the same size as the scaled image\n",
        "net.add_input('Retina', size=flat_size,name='Image')    # add a vector input for the flattened scaled image\n",
        "net.add_output('Retina',name='Retina Output')  # add a vector output from the retina, scaled correctly\n",
        "\n",
        "# Lamina\n",
        "net.add_population(neuron_type,shape,name='Lamina')\n",
        "\n",
        "del_e_ex = 160.0    # excitatory reversal potential\n",
        "del_e_in = -80.0    # inhibitory reversal potential\n",
        "k_ex = 1.0  # excitatory gain\n",
        "k_in = -1.0/9.0 # inhibitory gain\n",
        "g_max_ex = (k_ex*R)/(del_e_ex-k_ex*R)   # calculate excitatory conductance\n",
        "g_max_in = (k_in*R)/(del_e_in-k_in*R)   # calculate inhibitory conductance\n",
        "\n",
        "g_max_kernel = np.array([[g_max_in, g_max_in, g_max_in],    # kernel matrix of synaptic conductances\n",
        "                         [g_max_in, g_max_ex, g_max_in],\n",
        "                         [g_max_in, g_max_in, g_max_in]])\n",
        "del_e_kernel = np.array([[del_e_in, del_e_in, del_e_in],    # kernel matrix of synaptic reversal potentials\n",
        "                         [del_e_in, del_e_ex, del_e_in],\n",
        "                         [del_e_in, del_e_in, del_e_in]])\n",
        "e_lo_kernel = np.zeros([3,3])\n",
        "e_hi_kernel = np.zeros([3,3]) + R\n",
        "connection_hpf = NonSpikingPatternConnection(g_max_kernel,del_e_kernel,e_lo_kernel,e_hi_kernel) # pattern connection (acts as high pass filter)\n",
        "net.add_connection(connection_hpf,'Retina','Lamina',name='HPF') # connect the retina to the lamina\n",
        "net.add_output('Lamina',name='Lamina Output')  # add a vector output from the lamina\n",
        "\n",
        "img_flat = img_flat*R/255.0 # scale all the intensities from 0-255 to 0-R\n",
        "render(net)"
      ],
      "metadata": {
        "id": "aGrSi7AmuqH5"
      },
      "execution_count": null,
      "outputs": []
    },
    {
      "cell_type": "code",
      "source": [
        "dt = neuron_type.params['membrane_capacitance']/neuron_type.params['membrane_conductance']  # calculate the ideal dt\n",
        "t_max = 15  # run for 15 ms\n",
        "steps = int(t_max/dt)   # number of steps to simulate\n",
        "\n",
        "model = net.compile(backend='numpy',dt=dt,debug=False) # compile using the numpy backend\n",
        "for i in range(steps):\n",
        "    print('%i / %i steps'%(i+1,steps))\n",
        "    plt.figure()    # create a figure for live plotting the retina and lamina states\n",
        "    plt.subplot(1,2,1)\n",
        "    plt.title('Retina')\n",
        "    plt.axis('off')\n",
        "    plt.subplot(1,2,2)\n",
        "    plt.title('Lamina')\n",
        "    plt.axis('off')\n",
        "\n",
        "    out = model(img_flat)   # run the network for one dt\n",
        "    retina = out[:flat_size]    # separate the retina and lamina states\n",
        "    lamina = out[flat_size:]\n",
        "    retina_reshape = np.reshape(retina,shape)   # reshape to from flat to an image\n",
        "    lamina_reshape = np.reshape(lamina,shape)\n",
        "    plt.subplot(1,2,1)  # plot the current state\n",
        "    plt.imshow(retina_reshape,cmap='gray')\n",
        "    plt.subplot(1, 2, 2)\n",
        "    plt.imshow(lamina_reshape, cmap='gray')"
      ],
      "metadata": {
        "id": "GYyQ3G2wu79J"
      },
      "execution_count": null,
      "outputs": []
    },
    {
      "cell_type": "markdown",
      "source": [
        "## 7. Putting it all Together\n",
        "\n",
        "Let's use what we've covered so far and control an external system. We will make a controller for hexapod locomotion, based on a (very simplified) model of the insect nervous system.\n",
        "\n",
        "First, we need to load in the model we want to control in Mujoco."
      ],
      "metadata": {
        "id": "e8foU7GDnrK7"
      }
    },
    {
      "cell_type": "code",
      "source": [
        "import mujoco\n",
        "import mujoco.viewer\n",
        "XML=r\"\"\"\n",
        "<mujoco model=\"hexapod\">\n",
        "  <compiler angle=\"degree\" coordinate=\"local\" inertiafromgeom=\"true\"/>\n",
        "  <option integrator=\"RK4\" timestep=\"0.01\"/>\n",
        "  <custom>\n",
        "    <numeric data=\"0.0 0.0 0.55 1.0 0.0 0.0 0.0 0.0 1.0 0.0 -1.0 0.0 -1.0 0.0 1.0\" name=\"init_qpos\"/>\n",
        "  </custom>\n",
        "  <default>\n",
        "    <joint armature=\"1\" damping=\"1\" limited=\"true\"/>\n",
        "    <geom conaffinity=\"0\" condim=\"3\" density=\"5.0\" friction=\"1 0.5 0.5\" margin=\"0.01\" rgba=\"0.8 0.6 0.4 1\"/>\n",
        "  </default>\n",
        "  <asset>\n",
        "    <texture builtin=\"gradient\" height=\"100\" rgb1=\"1 1 1\" rgb2=\"0 0 0\" type=\"skybox\" width=\"100\"/>\n",
        "    <texture builtin=\"flat\" height=\"1278\" mark=\"cross\" markrgb=\"1 1 1\" name=\"texgeom\" random=\"0.01\" rgb1=\"0.8 0.6 0.4\" rgb2=\"0.8 0.6 0.4\" type=\"cube\" width=\"127\"/>\n",
        "    <texture builtin=\"checker\" height=\"100\" name=\"texplane\" rgb1=\"0 0 0\" rgb2=\"0.8 0.8 0.8\" type=\"2d\" width=\"100\"/>\n",
        "    <material name=\"MatPlane\" reflectance=\"0.5\" shininess=\"1\" specular=\"1\" texrepeat=\"60 60\" texture=\"texplane\"/>\n",
        "    <material name=\"geom\" texture=\"texgeom\" texuniform=\"true\"/>\n",
        "  </asset>\n",
        "  <worldbody>\n",
        "    <light cutoff=\"100\" diffuse=\"1 1 1\" dir=\"-0 0 -1.3\" directional=\"true\" exponent=\"1\" pos=\"0 0 1.3\" specular=\".1 .1 .1\"/>\n",
        "    <geom conaffinity=\"1\" condim=\"3\" material=\"MatPlane\" name=\"floor\" pos=\"0 0 0\" rgba=\"0.8 0.9 0.8 1\" size=\"40 40 40\" type=\"plane\"/>\n",
        "    <body name=\"torso\" pos=\"0 0 0.75\">\n",
        "      <camera name=\"track\" mode=\"trackcom\" pos=\"0 -3 0.3\" xyaxes=\"1 0 0 0 0 1\"/>\n",
        "      <geom name=\"torso_geom\" fromto=\"-1.0 0.0 0.0 1.0 0.0 0.0\" size=\"0.15\" type=\"capsule\" density=\"100\"/>\n",
        "      <joint armature=\"0\" axis=\"1 0 0\" damping=\"0\" limited=\"false\" name=\"rootx\" pos=\"0 0 0\" stiffness=\"0\" type=\"slide\"/>\n",
        "      <joint armature=\"0\" axis=\"0 0 1\" damping=\"0\" limited=\"false\" name=\"rootz\" pos=\"0 0 0\" stiffness=\"0\" type=\"slide\"/>\n",
        "      <joint armature=\"0\" axis=\"0 1 0\" damping=\"0\" limited=\"false\" name=\"rooty\" pos=\"0 0 0\" stiffness=\"0\" type=\"hinge\"/>\n",
        "      <body name=\"front_left_leg\" pos=\"-0.9 0 0\">\n",
        "        <geom fromto=\"0.0 0.0 0.0 0.0 -0.2 0.0\" name=\"aux_0_geom\" size=\"0.08\" type=\"capsule\"/>\n",
        "        <body name=\"aux_0\" pos=\"0.0 -0.2 0\">\n",
        "          <joint axis=\"0 0 -1\" name=\"hip_0\" pos=\"0.0 0.0 0.0\" range=\"-30 30\" type=\"hinge\"/>\n",
        "          <geom fromto=\"0.0 0.0 0.0 0.0 -0.3 0.0\" name=\"front_left_leg_geom\" size=\"0.08\" type=\"capsule\"/>\n",
        "          <body pos=\"0.0 -0.3 0\">\n",
        "            <joint axis=\"-1 0 0\" name=\"knee_0\" pos=\"0.0 0.0 0.0\" range=\"-70 -30\" type=\"hinge\"/>\n",
        "            <geom fromto=\"0.0 0.0 0.0 0.0 -0.5 0.0\" name=\"front_left_ankle_geom\" size=\"0.08\" type=\"capsule\"/>\n",
        "            <site name=\"foot_0\" type=\"capsule\" fromto=\"0.0 0.0 0.0 0.0 -0.5 0.0\" rgba=\"0.8 0.6 0.4 0\" size=\"0.1\"/>\n",
        "          </body>\n",
        "        </body>\n",
        "      </body>\n",
        "      <body name=\"center_left_leg\" pos=\"0 0 0\">\n",
        "        <geom fromto=\"0.0 0.0 0.0 0.0 -0.2 0.0\" name=\"aux_1_geom\" size=\"0.08\" type=\"capsule\"/>\n",
        "        <body name=\"aux_1\" pos=\"0.0 -0.2 0\">\n",
        "          <joint axis=\"0 0 -1\" name=\"hip_1\" pos=\"0.0 0.0 0.0\" range=\"-30 30\" type=\"hinge\"/>\n",
        "          <geom fromto=\"0.0 0.0 0.0 0.0 -0.3 0.0\" name=\"center_left_leg_geom\" size=\"0.08\" type=\"capsule\"/>\n",
        "          <body pos=\"0.0 -0.3 0\">\n",
        "            <joint axis=\"-1 0 0\" name=\"knee_1\" pos=\"0.0 0.0 0.0\" range=\"-70 -30\" type=\"hinge\"/>\n",
        "            <geom fromto=\"0.0 0.0 0.0 0.0 -0.5 0.0\" name=\"center_left_ankle_geom\" size=\"0.08\" type=\"capsule\"/>\n",
        "            <site name=\"foot_1\" type=\"capsule\" fromto=\"0.0 0.0 0.0 0.0 -0.5 0.0\" rgba=\"0.8 0.6 0.4 0\" size=\"0.1\"/>\n",
        "          </body>\n",
        "        </body>\n",
        "      </body>\n",
        "      <body name=\"back_left_leg\" pos=\"0.9 0 0\">\n",
        "        <geom fromto=\"0.0 0.0 0.0 0.0 -0.2 0.0\" name=\"aux_2_geom\" size=\"0.08\" type=\"capsule\"/>\n",
        "        <body name=\"aux_2\" pos=\"0.0 -0.2 0\">\n",
        "          <joint axis=\"0 0 -1\" name=\"hip_2\" pos=\"0.0 0.0 0.0\" range=\"-30 30\" type=\"hinge\"/>\n",
        "          <geom fromto=\"0.0 0.0 0.0 0.0 -0.3 0.0\" name=\"back_left_leg_geom\" size=\"0.08\" type=\"capsule\"/>\n",
        "          <body pos=\"0.0 -0.3 0\">\n",
        "            <joint axis=\"-1 0 0\" name=\"knee_2\" pos=\"0.0 0.0 0.0\" range=\"-70 -30\" type=\"hinge\"/>\n",
        "            <geom fromto=\"0.0 0.0 0.0 0.0 -0.5 0.0\" name=\"back_left_ankle_geom\" size=\"0.08\" type=\"capsule\"/>\n",
        "            <site name=\"foot_2\" type=\"capsule\" fromto=\"0.0 0.0 0.0 0.0 -0.5 0.0\" rgba=\"0.8 0.6 0.4 0\" size=\"0.1\"/>\n",
        "          </body>\n",
        "        </body>\n",
        "      </body>\n",
        "      <body name=\"back_right_leg\" pos=\"0.9 0 0\">\n",
        "        <geom fromto=\"0.0 0.0 0.0 0.0 0.2 0.0\" name=\"aux_3_geom\" size=\"0.08\" type=\"capsule\"/>\n",
        "        <body name=\"aux_3\" pos=\"0.0 0.2 0\">\n",
        "          <joint axis=\"0 0 1\" name=\"hip_3\" pos=\"0.0 0.0 0.0\" range=\"-30 30\" type=\"hinge\"/>\n",
        "          <geom fromto=\"0.0 0.0 0.0 0.0 0.3 0.0\" name=\"back_right_leg_geom\" size=\"0.08\" type=\"capsule\"/>\n",
        "          <body pos=\"0.0 0.3 0\">\n",
        "            <joint axis=\"1 0 0\" name=\"knee_3\" pos=\"0.0 0.0 0.0\" range=\"-70 -30\" type=\"hinge\"/>\n",
        "            <geom fromto=\"0.0 0.0 0.0 0.0 0.5 0.0\" name=\"back_right_ankle_geom\" size=\"0.08\" type=\"capsule\"/>\n",
        "            <site name=\"foot_3\" type=\"capsule\" fromto=\"0.0 0.0 0.0 0.0 0.5 0.0\" size=\"0.1\" rgba=\"0.8 0.6 0.4 0\"/>\n",
        "          </body>\n",
        "        </body>\n",
        "      </body>\n",
        "      <body name=\"center_right_leg\" pos=\"0 0 0\">\n",
        "        <geom fromto=\"0.0 0.0 0.0 0.0 0.2 0.0\" name=\"aux_4_geom\" size=\"0.08\" type=\"capsule\"/>\n",
        "        <body name=\"aux_4\" pos=\"0.0 0.2 0\">\n",
        "          <joint axis=\"0 0 1\" name=\"hip_4\" pos=\"0.0 0.0 0.0\" range=\"-30 30\" type=\"hinge\"/>\n",
        "          <geom fromto=\"0.0 0.0 0.0 0.0 0.3 0.0\" name=\"center_right_leg_geom\" size=\"0.08\" type=\"capsule\"/>\n",
        "          <body pos=\"0.0 0.3 0\">\n",
        "            <joint axis=\"1 0 0\" name=\"knee_4\" pos=\"0.0 0.0 0.0\" range=\"-70 -30\" type=\"hinge\"/>\n",
        "            <geom fromto=\"0.0 0.0 0.0 0.0 0.5 0.0\" name=\"center_right_ankle_geom\" size=\"0.08\" type=\"capsule\"/>\n",
        "            <site  name=\"foot_4\" type=\"capsule\" fromto=\"0.0 0.0 0.0 0.0 0.5 0.0\" rgba=\"0.8 0.6 0.4 0\" size=\"0.1\"/>\n",
        "          </body>\n",
        "        </body>\n",
        "      </body>\n",
        "      <body name=\"front_right_leg\" pos=\"-0.9 0 0\">\n",
        "        <geom fromto=\"0.0 0.0 0.0 0.0 0.2 0.0\" name=\"aux_5_geom\" size=\"0.08\" type=\"capsule\"/>\n",
        "        <body name=\"aux_5\" pos=\"0.0 0.2 0\">\n",
        "          <joint axis=\"0 0 1\" name=\"hip_5\" pos=\"0.0 0.0 0.0\" range=\"-30 30\" type=\"hinge\"/>\n",
        "          <geom fromto=\"0.0 0.0 0.0 0.0 0.3 0.0\" name=\"front_right_leg_geom\" size=\"0.08\" type=\"capsule\"/>\n",
        "          <body pos=\"0.0 0.3 0\">\n",
        "            <joint axis=\"1 0 0\" name=\"knee_5\" pos=\"0.0 0.0 0.0\" range=\"-70 -30\" type=\"hinge\"/>\n",
        "            <geom fromto=\"0.0 0.0 0.0 0.0 0.5 0.0\" name=\"front_right_ankle_geom\" size=\"0.08\" type=\"capsule\"/>\n",
        "            <site name=\"foot_5\" type=\"capsule\" fromto=\"0.0 0.0 0.0 0.0 0.5 0.0\" rgba=\"0.8 0.6 0.4 0\" size=\"0.1\"/>\n",
        "          </body>\n",
        "        </body>\n",
        "      </body>\n",
        "    </body>\n",
        "  </worldbody>\n",
        "  <actuator>\n",
        "    <motor ctrllimited=\"true\" ctrlrange=\"-1.0 1.0\" joint=\"hip_0\" gear=\"150\"/>\n",
        "    <motor ctrllimited=\"true\" ctrlrange=\"-1.0 1.0\" joint=\"knee_0\" gear=\"150\"/>\n",
        "    <motor ctrllimited=\"true\" ctrlrange=\"-1.0 1.0\" joint=\"hip_1\" gear=\"150\"/>\n",
        "    <motor ctrllimited=\"true\" ctrlrange=\"-1.0 1.0\" joint=\"knee_1\" gear=\"150\"/>\n",
        "    <motor ctrllimited=\"true\" ctrlrange=\"-1.0 1.0\" joint=\"hip_2\" gear=\"150\"/>\n",
        "    <motor ctrllimited=\"true\" ctrlrange=\"-1.0 1.0\" joint=\"knee_2\" gear=\"150\"/>\n",
        "    <motor ctrllimited=\"true\" ctrlrange=\"-1.0 1.0\" joint=\"hip_3\" gear=\"150\"/>\n",
        "    <motor ctrllimited=\"true\" ctrlrange=\"-1.0 1.0\" joint=\"knee_3\" gear=\"150\"/>\n",
        "    <motor ctrllimited=\"true\" ctrlrange=\"-1.0 1.0\" joint=\"hip_4\" gear=\"150\"/>\n",
        "    <motor ctrllimited=\"true\" ctrlrange=\"-1.0 1.0\" joint=\"knee_4\" gear=\"150\"/>\n",
        "    <motor ctrllimited=\"true\" ctrlrange=\"-1.0 1.0\" joint=\"hip_5\" gear=\"150\"/>\n",
        "    <motor ctrllimited=\"true\" ctrlrange=\"-1.0 1.0\" joint=\"knee_5\" gear=\"150\"/>\n",
        "  </actuator>\n",
        "  <sensor>\n",
        "    <touch site=\"foot_0\"/>\n",
        "    <touch site=\"foot_1\"/>\n",
        "    <touch site=\"foot_2\"/>\n",
        "    <touch site=\"foot_3\"/>\n",
        "    <touch site=\"foot_4\"/>\n",
        "    <touch site=\"foot_5\"/>\n",
        "  </sensor>\n",
        "</mujoco>\n",
        "\"\"\"\n",
        "model = mujoco.MjModel.from_xml_string(XML,{})\n",
        "data = mujoco.MjData(model)\n",
        "render_mj = mujoco.Renderer(model)\n",
        "\n",
        "duration = 3.8  # (seconds)\n",
        "framerate = 60  # (Hz)\n",
        "\n",
        "# Simulate and display video.\n",
        "frames = []\n",
        "mujoco.mj_resetData(model, data)  # Reset state and time.\n",
        "while data.time < duration:\n",
        "  mujoco.mj_step(model, data)\n",
        "  if len(frames) < data.time * framerate:\n",
        "    render_mj.update_scene(data)\n",
        "    pixels = render_mj.render()\n",
        "    frames.append(pixels)\n",
        "media.show_video(frames, fps=framerate)"
      ],
      "metadata": {
        "id": "gRXB1KCRvaGe"
      },
      "execution_count": null,
      "outputs": []
    },
    {
      "cell_type": "markdown",
      "source": [
        "Next we define the indices for the individual degrees of freedom we care about"
      ],
      "metadata": {
        "id": "YoRtf4noplTl"
      }
    },
    {
      "cell_type": "code",
      "source": [
        "\"\"\"Linear remapping\"\"\"\n",
        "def remap(data, start, end):\n",
        "    return (1/(end-start))*(data-start)\n",
        "\n",
        "hip_0_id = model.joint('hip_0').id\n",
        "hip_1_id = model.joint('hip_1').id\n",
        "hip_2_id = model.joint('hip_2').id\n",
        "hip_3_id = model.joint('hip_3').id\n",
        "hip_4_id = model.joint('hip_4').id\n",
        "hip_5_id = model.joint('hip_5').id\n",
        "knee_0_id = mujoco.mj_name2id(model, mujoco.mjtObj.mjOBJ_JOINT, 'knee_0')\n",
        "knee_1_id = mujoco.mj_name2id(model, mujoco.mjtObj.mjOBJ_JOINT, 'knee_1')\n",
        "knee_2_id = mujoco.mj_name2id(model, mujoco.mjtObj.mjOBJ_JOINT, 'knee_2')\n",
        "knee_3_id = mujoco.mj_name2id(model, mujoco.mjtObj.mjOBJ_JOINT, 'knee_3')\n",
        "knee_4_id = mujoco.mj_name2id(model, mujoco.mjtObj.mjOBJ_JOINT, 'knee_4')\n",
        "knee_5_id = mujoco.mj_name2id(model, mujoco.mjtObj.mjOBJ_JOINT, 'knee_5')\n",
        "hip_angles = [hip_0_id, hip_1_id, hip_2_id, hip_3_id, hip_4_id, hip_5_id]\n",
        "knee_angles = [knee_0_id, knee_1_id, knee_2_id, knee_3_id, knee_4_id, knee_5_id]\n",
        "\n",
        "motor_ids_hip = [0, 2, 4, 6, 8, 10]\n",
        "motor_ids_knee = [1, 3, 5, 7, 9, 11]\n",
        "\n",
        "foot_0_id = mujoco.mj_name2id(model, mujoco.mjtObj.mjOBJ_GEOM, 'front_left_ankle_geom')\n",
        "foot_1_id = mujoco.mj_name2id(model, mujoco.mjtObj.mjOBJ_GEOM, 'center_left_ankle_geom')\n",
        "foot_2_id = mujoco.mj_name2id(model, mujoco.mjtObj.mjOBJ_GEOM, 'back_left_ankle_geom')\n",
        "foot_3_id = mujoco.mj_name2id(model, mujoco.mjtObj.mjOBJ_GEOM, 'back_right_ankle_geom')\n",
        "foot_4_id = mujoco.mj_name2id(model, mujoco.mjtObj.mjOBJ_GEOM, 'center_right_ankle_geom')\n",
        "foot_5_id = mujoco.mj_name2id(model, mujoco.mjtObj.mjOBJ_GEOM, 'front_right_ankle_geom')\n",
        "foot_ids = [foot_0_id, foot_1_id, foot_2_id, foot_3_id, foot_4_id, foot_5_id]\n",
        "\n",
        "angles_hip_lower = np.zeros(6) - 0.5265\n",
        "angles_hip_upper = np.zeros(6) + 0.5265\n",
        "angles_knee_lower = np.zeros(6) - 1.2247\n",
        "angles_knee_upper = np.zeros(6) - 0.5206"
      ],
      "metadata": {
        "id": "39hnB2dfpKBx"
      },
      "execution_count": null,
      "outputs": []
    },
    {
      "cell_type": "markdown",
      "source": [
        "To start, let's create a network for controlling the angle of a single joint. We need to take in a commanded angle, compare to the current angle, and then output the needed torque to drive the joint.\n",
        "\n"
      ],
      "metadata": {
        "id": "Ld5DwlATpkb_"
      }
    },
    {
      "cell_type": "code",
      "source": [
        "reversal_ex = 5.0\n",
        "reversal_in = -2.0\n",
        "reversal_mod = 0.0\n",
        "nrn_nonspiking = NonSpikingNeuron()\n",
        "\n",
        "net_angle = Network(name='Joint Angle Controller')\n",
        "\n",
        "net_angle.add_neuron(nrn_nonspiking, name='theta_actual')\n",
        "net_angle.add_neuron(nrn_nonspiking, name='theta_target')\n",
        "net_angle.add_input('theta_actual')\n",
        "net_angle.add_input('theta_target')\n",
        "net_angle.add_output('theta_actual')\n",
        "net_angle.add_output('theta_target')\n",
        "\n",
        "net_angle.add_neuron(nrn_nonspiking, name='real_greater_target')\n",
        "net_angle.add_neuron(nrn_nonspiking, name='real_less_target')\n",
        "net_angle.add_output('real_greater_target')\n",
        "net_angle.add_output('real_less_target')\n",
        "g_add = 1/(reversal_ex-1)\n",
        "g_sub = -(g_add*reversal_ex)/reversal_in\n",
        "syn_add = NonSpikingSynapse(max_conductance=g_add, reversal_potential=reversal_ex, e_lo=0.0, e_hi=1.0)\n",
        "syn_sub = NonSpikingSynapse(max_conductance=g_sub, reversal_potential=reversal_in, e_lo=0.0, e_hi=1.0)\n",
        "net_angle.add_connection(syn_add, 'theta_actual', 'real_greater_target')\n",
        "net_angle.add_connection(syn_sub, 'theta_target', 'real_greater_target')\n",
        "net_angle.add_connection(syn_sub, 'theta_actual', 'real_less_target')\n",
        "net_angle.add_connection(syn_add, 'theta_target', 'real_less_target')\n",
        "\n",
        "net_angle.add_neuron(nrn_nonspiking, name='torque_more')\n",
        "net_angle.add_neuron(nrn_nonspiking, name='torque_less')\n",
        "k_more = 0.5\n",
        "k_less = 0.5\n",
        "g_torque_more = k_more/(reversal_ex-k_more)\n",
        "g_torque_less = k_less/(reversal_ex-k_less)\n",
        "syn_torque_more = NonSpikingSynapse(max_conductance=g_torque_more, reversal_potential=reversal_ex, e_lo=0.0, e_hi=1.0)\n",
        "syn_torque_less = NonSpikingSynapse(max_conductance=g_torque_less, reversal_potential=reversal_ex, e_lo=0.0, e_hi=1.0)\n",
        "net_angle.add_connection(syn_torque_more,'real_greater_target', 'torque_less')\n",
        "net_angle.add_connection(syn_torque_less,'real_less_target', 'torque_more')\n",
        "net_angle.add_output('torque_more')\n",
        "net_angle.add_output('torque_less')\n",
        "\n",
        "render(net_angle)"
      ],
      "metadata": {
        "id": "4D2LYIrtqP-f"
      },
      "execution_count": null,
      "outputs": []
    },
    {
      "cell_type": "code",
      "source": [
        "sns_angle = net_angle.compile(dt=0.1, backend='numpy')\n",
        "model.opt.timestep = 0.0001\n",
        "framerate = 60 # fps\n",
        "frames = []\n",
        "mujoco.mj_resetData(model, data)  # Reset state and time.\n",
        "i = 0\n",
        "dir = 1\n",
        "inputs = np.zeros(2)\n",
        "torque = 0\n",
        "ref = []\n",
        "num_steps = 50000\n",
        "output = np.zeros([num_steps, 6])\n",
        "theta = []\n",
        "while i<num_steps:\n",
        "  step_start = time.time()\n",
        "  ref_angle = 0.5*np.sin(0.001*i)+0.5\n",
        "  ref.append(ref_angle)\n",
        "  #print(ref_angle)\n",
        "\n",
        "  # mj_step can be replaced with code that also evaluates\n",
        "  # a policy and applies a control signal before stepping the physics.\n",
        "  if i % 100 == 0:\n",
        "    dir *= -1\n",
        "  data.ctrl[motor_ids_hip] = -1\n",
        "  data.ctrl[motor_ids_knee] = -1\n",
        "  data.ctrl[motor_ids_knee[0]] = torque\n",
        "\n",
        "  mujoco.mj_step(model, data)\n",
        "\n",
        "  angles_hip = data.qpos[hip_angles]\n",
        "  angles_hip_map = remap(angles_hip, angles_hip_lower, angles_hip_upper)\n",
        "  angles_knee = data.qpos[knee_angles]\n",
        "  angles_knee_map = remap(angles_knee, angles_knee_lower, angles_knee_upper)\n",
        "\n",
        "  inputs[0] = angles_knee_map[0]\n",
        "  inputs[1] = ref_angle\n",
        "  output[i,:] = sns_angle(inputs)\n",
        "  theta.append(inputs[0])\n",
        "  torque = output[i,4] - output[i,5]\n",
        "\n",
        "#     print(torque)\n",
        "#     # print('Hip Angles:')\n",
        "#     # print(angles_hip_map)\n",
        "#     # print('Knee Angles:')\n",
        "#     # print(angles_knee_map)\n",
        "#     # print('Sensor Readings:')\n",
        "#     # print(data.sensordata)\n",
        "#\n",
        "  # Pick up changes to the physics state, apply perturbations, update options from GUI.\n",
        "  if len(frames) < data.time * framerate:\n",
        "    render_mj.update_scene(data)\n",
        "    pixels = render_mj.render()\n",
        "    frames.append(pixels)\n",
        "\n",
        "  # Rudimentary time keeping, will drift relative to wall clock.\n",
        "  # time_until_next_step = model.opt.timestep - (time.time() - step_start)\n",
        "  # if time_until_next_step > 0:\n",
        "  #   time.sleep(time_until_next_step)\n",
        "  i += 1\n",
        "output = output.transpose()\n",
        "plt.figure()\n",
        "plt.subplot(2,1,1)\n",
        "plt.plot(theta, label='Theta')\n",
        "plt.plot(output[0,:], label='Actual Nrn')\n",
        "plt.plot(ref, label='Reference')\n",
        "plt.plot(output[1,:], label='Target Nrn')\n",
        "plt.legend()\n",
        "plt.subplot(2,1,2)\n",
        "plt.plot(output[2,:], label='Actual > Target Nrn')\n",
        "plt.plot(output[3,:], label='Actual < Target Nrn')\n",
        "plt.plot(output[0,:], label='More Nrn')\n",
        "plt.plot(output[1,:], label='Less Nrn')\n",
        "plt.legend()\n",
        "\n",
        "media.show_video(frames, fps=framerate)"
      ],
      "metadata": {
        "id": "0Xj6Mshoqcyy"
      },
      "execution_count": null,
      "outputs": []
    },
    {
      "cell_type": "markdown",
      "source": [
        "Next, we need to add some neurons to generate rythmic commands for the angle controller. Let's make a small network of neurons which oscillates, also known as a central pattern generator (CPG)."
      ],
      "metadata": {
        "id": "1H4-V3tPEBz_"
      }
    },
    {
      "cell_type": "code",
      "source": [
        "def add_cpg(net, suffix, start_swing=True):\n",
        "    if start_swing:\n",
        "        swing_initial = 0.5\n",
        "        stance_initial = 0.0\n",
        "    else:\n",
        "        swing_initial = 0.0\n",
        "        stance_initial = 0.5\n",
        "    hc_bias = 0.1\n",
        "    nrn_hc = NonSpikingNeuron(bias=hc_bias)\n",
        "    nrn_slow = NonSpikingNeuron(membrane_capacitance=100)\n",
        "    net.add_neuron(nrn_hc, name='Swing HC'+suffix, initial_value=swing_initial)\n",
        "    net.add_neuron(nrn_slow, name='Swing Slow'+suffix)\n",
        "    net.add_neuron(nrn_hc, name='Stance HC'+suffix, initial_value=stance_initial)\n",
        "    net.add_neuron(nrn_slow, name='Stance Slow'+suffix)\n",
        "\n",
        "    g_self = 0.5\n",
        "    a = 0.9\n",
        "    g_sf = (g_self * (reversal_ex - a) - a) / (a - reversal_in)\n",
        "    syn_cpg_self = NonSpikingSynapse(max_conductance=g_self, reversal_potential=reversal_ex, e_hi=1)\n",
        "    syn_cpg_ex_slow = NonSpikingSynapse(max_conductance=1 / (reversal_ex - 1), reversal_potential=reversal_ex, e_hi=1)\n",
        "    syn_cpg_slow_in = NonSpikingSynapse(max_conductance=g_sf, reversal_potential=reversal_in, e_hi=1)\n",
        "    g_in_hc = -hc_bias / reversal_in\n",
        "    syn_cpg_hc = NonSpikingSynapse(max_conductance=g_in_hc, reversal_potential=reversal_in, e_hi=1)\n",
        "\n",
        "    net.add_connection(syn_cpg_self, 'Swing HC'+suffix, 'Swing HC'+suffix)\n",
        "    net.add_connection(syn_cpg_ex_slow, 'Swing HC'+suffix, 'Swing Slow'+suffix)\n",
        "    net.add_connection(syn_cpg_slow_in, 'Swing Slow'+suffix, 'Swing HC'+suffix)\n",
        "    net.add_connection(syn_cpg_self, 'Stance HC'+suffix, 'Stance HC'+suffix)\n",
        "    net.add_connection(syn_cpg_ex_slow, 'Stance HC'+suffix, 'Stance Slow'+suffix)\n",
        "    net.add_connection(syn_cpg_slow_in, 'Stance Slow'+suffix, 'Stance HC'+suffix)\n",
        "    net.add_connection(syn_cpg_hc, 'Swing HC'+suffix, 'Stance HC'+suffix)\n",
        "    net.add_connection(syn_cpg_hc, 'Stance HC'+suffix, 'Swing HC'+suffix)\n",
        "\n",
        "net_cpg = Network(name='CPG Joint Controller')\n",
        "add_cpg(net_cpg, '')\n",
        "net_cpg.add_output('Swing HC')\n",
        "net_cpg.add_output('Stance HC')\n",
        "\n",
        "render(net_cpg)"
      ],
      "metadata": {
        "id": "iqayqBLXZ1al"
      },
      "execution_count": null,
      "outputs": []
    },
    {
      "cell_type": "code",
      "source": [
        "sns_cpg = net_cpg.compile(dt=0.1, backend='numpy')\n",
        "num_steps = 20000\n",
        "outputs = np.zeros([num_steps, 2])\n",
        "for i in range(num_steps):\n",
        "    outputs[i,:] = sns_cpg()\n",
        "outputs = outputs.transpose()\n",
        "plt.figure()\n",
        "plt.plot(outputs[0,:])\n",
        "plt.plot(outputs[1,:])"
      ],
      "metadata": {
        "id": "wI00WVDJgzzn"
      },
      "execution_count": null,
      "outputs": []
    },
    {
      "cell_type": "markdown",
      "source": [
        "Now that we have a controller for a single joint, let's generate a controller for one leg. Each joint (hip, knee) has a cpg and an angle controller, and we link the two cpg networks so that they operate synchronously."
      ],
      "metadata": {
        "id": "62BDE8NgElbk"
      }
    },
    {
      "cell_type": "code",
      "source": [
        "def add_leg(net, suffix, start_swing):\n",
        "    add_cpg(net, ' h'+suffix, start_swing=start_swing)\n",
        "    net.add_network(net_angle, suffix=' h'+suffix)\n",
        "    add_cpg(net, ' k'+suffix, start_swing=start_swing)\n",
        "    net.add_network(net_angle, suffix=' k'+suffix)\n",
        "    # net.add_input('Swing HC k')\n",
        "    net.add_connection(syn_add, 'Swing HC h'+suffix, 'theta_target h'+suffix)\n",
        "    net.add_connection(syn_add, 'Swing HC k'+suffix, 'theta_target k'+suffix)\n",
        "    net.add_connection(syn_add, 'Swing HC k'+suffix, 'Swing HC h'+suffix)\n",
        "    net.add_connection(syn_add, 'Stance HC h'+suffix, 'Stance HC k'+suffix)\n",
        "    # net.add_output('Swing HC h'+suffix)\n",
        "    # net.add_output('Stance HC h'+suffix)\n",
        "    # net.add_output('Swing HC k'+suffix)\n",
        "    # net.add_output('Stance HC k'+suffix)\n",
        "\n",
        "\n",
        "net_leg = Network(name='Leg Controller')\n",
        "add_leg(net_leg, '0', True)\n",
        "render(net_leg)"
      ],
      "metadata": {
        "id": "CvdrtzKEg97v"
      },
      "execution_count": null,
      "outputs": []
    },
    {
      "cell_type": "code",
      "source": [
        "sns_leg = net_leg.compile(dt=0.1, backend='numpy')\n",
        "model.opt.timestep = 0.0001\n",
        "framerate = 60 # fps\n",
        "frames = []\n",
        "mujoco.mj_resetData(model, data)  # Reset state and time.\n",
        "i = 0\n",
        "dir = 1\n",
        "inputs = np.zeros(4)\n",
        "torque_knee = 0\n",
        "torque_hip = 0\n",
        "ref = []\n",
        "num_steps = 20000\n",
        "output = np.zeros([num_steps, 12])\n",
        "theta = []\n",
        "while i<num_steps:\n",
        "  step_start = time.time()\n",
        "  ref_angle = 0.5*np.sin(0.001*i)+0.5\n",
        "  ref.append(ref_angle)\n",
        "  #print(ref_angle)\n",
        "\n",
        "  # mj_step can be replaced with code that also evaluates\n",
        "  # a policy and applies a control signal before stepping the physics.\n",
        "\n",
        "  data.ctrl[motor_ids_hip] = -1\n",
        "  data.ctrl[motor_ids_knee] = -1\n",
        "  data.ctrl[motor_ids_knee[0]] = torque_knee\n",
        "  data.ctrl[motor_ids_hip[0]] = torque_hip\n",
        "\n",
        "  mujoco.mj_step(model, data)\n",
        "\n",
        "  angles_hip = data.qpos[hip_angles]\n",
        "  angles_hip_map = remap(angles_hip, angles_hip_lower, angles_hip_upper)\n",
        "  angles_knee = data.qpos[knee_angles]\n",
        "  angles_knee_map = remap(angles_knee, angles_knee_lower, angles_knee_upper)\n",
        "\n",
        "  inputs[0] = angles_hip_map[0]\n",
        "  inputs[1] = 0\n",
        "  inputs[2] = angles_knee_map[0]\n",
        "\n",
        "  output[i,:] = sns_leg(inputs)\n",
        "  theta.append(inputs[0])\n",
        "  torque_hip = output[i,4] - output[i,5]\n",
        "  torque_knee = output[i,10] - output[i,11]\n",
        "\n",
        "#     print(torque)\n",
        "#     # print('Hip Angles:')\n",
        "#     # print(angles_hip_map)\n",
        "#     # print('Knee Angles:')\n",
        "#     # print(angles_knee_map)\n",
        "#     # print('Sensor Readings:')\n",
        "#     # print(data.sensordata)\n",
        "#\n",
        "  # Pick up changes to the physics state, apply perturbations, update options from GUI.\n",
        "  if len(frames) < data.time * framerate:\n",
        "    render_mj.update_scene(data)\n",
        "    pixels = render_mj.render()\n",
        "    frames.append(pixels)\n",
        "  i += 1\n",
        "\n",
        "media.show_video(frames, fps=framerate)"
      ],
      "metadata": {
        "id": "NiQEAMvBhdxV"
      },
      "execution_count": null,
      "outputs": []
    },
    {
      "cell_type": "markdown",
      "source": [
        "Finally, let's generate locomotion. We'll do it simply here, where each leg has the same control structure and we just initialize the legs such that they alternate in a tripod configuration. This is just a tutorial, in actual animals there are connective pathways between the legs that generate and coordinate gaits."
      ],
      "metadata": {
        "id": "j0he3IDBE_aV"
      }
    },
    {
      "cell_type": "code",
      "source": [
        "net_walk = Network(name='Walking Controller')\n",
        "add_leg(net_walk, '0', True)\n",
        "add_leg(net_walk, '1', False)\n",
        "add_leg(net_walk, '2', True)\n",
        "add_leg(net_walk, '3', False)\n",
        "add_leg(net_walk, '4', True)\n",
        "add_leg(net_walk, '5', False)\n",
        "\n",
        "framerate = 60 # fps\n",
        "frames = []\n",
        "mujoco.mj_resetData(model, data)  # Reset state and time.\n",
        "sns_walk = net_walk.compile(dt=0.1, backend='numpy')\n",
        "model.opt.timestep = 0.0001\n",
        "i = 0\n",
        "inputs = np.zeros(4*6)\n",
        "torque_knee = np.zeros(6)-1\n",
        "torque_hip = np.zeros(6)-1\n",
        "num_steps = 50000\n",
        "output = np.zeros([num_steps, 12*6])\n",
        "while i < num_steps:\n",
        "  data.ctrl[motor_ids_hip] = torque_hip\n",
        "  data.ctrl[motor_ids_knee] = torque_knee\n",
        "\n",
        "  mujoco.mj_step(model, data)\n",
        "\n",
        "  angles_hip = data.qpos[hip_angles]\n",
        "  angles_hip_map = remap(angles_hip, angles_hip_lower, angles_hip_upper)\n",
        "  angles_knee = data.qpos[knee_angles]\n",
        "  angles_knee_map = remap(angles_knee, angles_knee_lower, angles_knee_upper)\n",
        "\n",
        "  inputs[0::4] = angles_hip_map\n",
        "  inputs[2::4] = angles_knee_map\n",
        "  output[i,:] = sns_walk(inputs)\n",
        "  torque_hip = output[i,4::12] - output[i,5::12]\n",
        "  torque_knee = output[i,10::12] - output[i,11::12]\n",
        "\n",
        "  if len(frames) < data.time * framerate:\n",
        "    render_mj.update_scene(data)\n",
        "    pixels = render_mj.render()\n",
        "    frames.append(pixels)\n",
        "  i += 1\n",
        "\n",
        "media.show_video(frames, fps=framerate)"
      ],
      "metadata": {
        "id": "fmUNw7ZbwUrR"
      },
      "execution_count": null,
      "outputs": []
    },
    {
      "cell_type": "markdown",
      "source": [
        "# SNSTorch\n",
        "So far we have been using SNS-Toolbox, which simulates generally one large recurrent population. This works for moderate-scale networks, but as we increase the network size we get N^2 matrices... which is bad. For larger networks, we are developing SNSTorch. SNSTorch is still in early development, but we can train networks of non-spiking neurons with conductance-based synapses. Here, we will demonstrate this by training a recurrent SNS to classify the row-wise sequential MNIST dataset."
      ],
      "metadata": {
        "id": "HZd_6e0nNOWt"
      }
    },
    {
      "cell_type": "code",
      "source": [
        "import torch\n",
        "from torch import optim\n",
        "import torch.nn as nn\n",
        "from torch.utils.data import DataLoader\n",
        "import torch.nn.functional as F\n",
        "import matplotlib.pyplot as plt\n",
        "import snstorch.modules as m\n",
        "import pickle\n",
        "from tqdm import tqdm\n",
        "from datetime import datetime"
      ],
      "metadata": {
        "id": "CjkEfHtDK2Bp"
      },
      "execution_count": null,
      "outputs": []
    },
    {
      "cell_type": "code",
      "source": [
        "BATCH_SIZE = 64\n",
        "\n",
        "# download and load training dataset\n",
        "trainloader = torch.utils.data.DataLoader(trainset, batch_size=BATCH_SIZE, shuffle=True, num_workers=2)\n",
        "\n",
        "# download and load testing dataset\n",
        "testloader = torch.utils.data.DataLoader(testset, batch_size=BATCH_SIZE, shuffle=False, num_workers=2)"
      ],
      "metadata": {
        "id": "t-HsXCX-NxHQ"
      },
      "execution_count": null,
      "outputs": []
    },
    {
      "cell_type": "code",
      "source": [
        "# parameters\n",
        "N_STEPS = 28\n",
        "N_INPUTS = 28\n",
        "N_NEURONS = 128\n",
        "N_OUTPUTS = 10\n",
        "N_EPOCHS = 10\n",
        "\n",
        "class ImageSNS(nn.Module):\n",
        "    def __init__(self, batch_size, n_steps, n_inputs, n_neurons, n_outputs):\n",
        "        super(ImageSNS, self).__init__()\n",
        "\n",
        "        self.n_neurons = n_neurons\n",
        "        self.batch_size = batch_size\n",
        "        self.n_steps = n_steps\n",
        "        self.n_inputs = n_inputs\n",
        "        self.n_outputs = n_outputs\n",
        "\n",
        "        self.input = nn.Linear(self.n_inputs, self.n_neurons)\n",
        "        self.hidden = m.NonSpikingLayer(self.n_neurons)\n",
        "        self.h2h = m.NonSpikingChemicalSynapseLinear(self.n_neurons, self.n_neurons)\n",
        "        # self.h2h = nn.Linear(self.n_neurons, self.n_neurons)\n",
        "        self.out = nn.Linear(self.n_neurons, self.n_outputs)\n",
        "\n",
        "    def init_hidden(self, size):\n",
        "        # (num_layers, batch_size, n_neurons)\n",
        "        return (torch.zeros(size, self.n_neurons, device=device))\n",
        "\n",
        "    def forward(self, X):\n",
        "        # transforms X to dimensions: n_steps X batch_size X n_inputs\n",
        "        X = X.permute(1, 0, 2)\n",
        "\n",
        "        self.batch_size = X.size(1)\n",
        "\n",
        "        # rnn_out => n_steps, batch_size, n_neurons (hidden states for each time step)\n",
        "        # self.hidden => 1, batch_size, n_neurons (final state from each rnn_out)\n",
        "        for i in range(N_STEPS):\n",
        "            ext = self.input(X[i,:,:])\n",
        "            prev = self.h2h(self.state, self.state)\n",
        "            # prev = self.h2h(self.state)\n",
        "            self.state = self.hidden(ext+prev, self.state)\n",
        "            # print(ext+prev)\n",
        "        out = self.out(self.state)\n",
        "        # print(out)\n",
        "        return out.view(-1, self.n_outputs)  # batch_size X n_output\n",
        "\n",
        "def get_accuracy(logit, target, batch_size):\n",
        "    ''' Obtain accuracy for training round '''\n",
        "    corrects = (torch.max(logit, 1)[1].view(target.size()).data == target.data).sum()\n",
        "    accuracy = 100.0 * corrects/batch_size\n",
        "    return accuracy.item()\n"
      ],
      "metadata": {
        "id": "_PVRXYntN7aC"
      },
      "execution_count": null,
      "outputs": []
    },
    {
      "cell_type": "code",
      "source": [
        "dataiter = iter(trainloader)\n",
        "images, labels = next(dataiter)\n",
        "device = torch.device('cuda' if torch.cuda.is_available() else 'cpu')\n",
        "model = ImageSNS(BATCH_SIZE, N_STEPS, N_INPUTS, N_NEURONS, N_OUTPUTS).to(device)\n",
        "criterion = nn.CrossEntropyLoss()\n",
        "optimizer = optim.Adam(model.parameters(), lr=0.001)\n",
        "\n",
        "test_acc = 0.0\n",
        "test_acc_last = -1.0\n",
        "loss_history = []\n",
        "acc_train_history = []\n",
        "acc_test_history = []\n",
        "# for epoch in range(N_EPOCHS):  # loop over the dataset multiple times\n",
        "epoch = 0\n",
        "r = 0\n",
        "while test_acc > test_acc_last or epoch <= N_EPOCHS:\n",
        "    train_running_loss = 0.0\n",
        "    train_acc = 0.0\n",
        "    model.train()\n",
        "\n",
        "    # TRAINING ROUND\n",
        "    for i, data in enumerate(tqdm(trainloader)):\n",
        "        # print(i)\n",
        "        # zero the parameter gradients\n",
        "        optimizer.zero_grad()\n",
        "\n",
        "        # get the inputs\n",
        "        inputs, labels = data\n",
        "        inputs, labels = inputs.to(device), labels.to(device)\n",
        "        inputs = inputs.view(-1, 28, 28)\n",
        "\n",
        "        batch_size = inputs.size(0)\n",
        "        # reset hidden states\n",
        "        model.state = model.init_hidden(batch_size)\n",
        "        model.h2h.setup()\n",
        "\n",
        "        # forward + backward + optimize\n",
        "        outputs = model(inputs)\n",
        "\n",
        "        loss = criterion(outputs, labels)\n",
        "        loss.backward()\n",
        "        optimizer.step()\n",
        "\n",
        "        train_running_loss += loss.detach().item()\n",
        "        train_acc += get_accuracy(outputs, labels, BATCH_SIZE)\n",
        "\n",
        "    model.eval()\n",
        "    print('Run: %i | Epoch:  %d | Loss: %.4f | Train Accuracy: %.2f'\n",
        "          % (r, epoch, train_running_loss / i, train_acc / i))\n",
        "    loss_history.extend([train_running_loss/i])\n",
        "    acc_train_history.extend([train_acc/i])\n",
        "    test_acc_last = test_acc\n",
        "    test_acc = 0.0\n",
        "    model.h2h.setup()\n",
        "    for i, data in enumerate(testloader, 0):\n",
        "        inputs, labels = data\n",
        "        inputs, labels = inputs.to(device), labels.to(device)\n",
        "        inputs = inputs.view(-1, 28, 28)\n",
        "        batch_size = inputs.size(0)\n",
        "        model.state = model.init_hidden(batch_size)\n",
        "\n",
        "        outputs = model(inputs)\n",
        "\n",
        "        test_acc += get_accuracy(outputs, labels, BATCH_SIZE)\n",
        "    acc_test_history.extend([test_acc/i])\n",
        "    epoch += 1\n",
        "\n",
        "    print('Test Accuracy: %.2f' % (test_acc / i))\n",
        "\n",
        "plt.figure()\n",
        "plt.subplot(2,1,1)\n",
        "plt.plot(loss_history)\n",
        "plt.title('Training Loss')\n",
        "plt.subplot(2,1,2)\n",
        "plt.plot(acc_train_history, label='Training Accuracy')\n",
        "plt.plot(acc_test_history, label='Test Accuracy')\n",
        "plt.title('Accuracy')\n",
        "plt.xlabel('Epoch')\n",
        "plt.legend()\n",
        "plt.show()"
      ],
      "metadata": {
        "id": "9B18ON_8Pait"
      },
      "execution_count": null,
      "outputs": []
    },
    {
      "cell_type": "code",
      "source": [],
      "metadata": {
        "id": "bplh1XY7QHBf"
      },
      "execution_count": null,
      "outputs": []
    }
  ]
}